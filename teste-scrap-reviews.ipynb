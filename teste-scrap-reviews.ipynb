{
 "cells": [
  {
   "cell_type": "code",
   "execution_count": 21,
   "metadata": {},
   "outputs": [],
   "source": [
    "import play_scraper"
   ]
  },
  {
   "cell_type": "markdown",
   "metadata": {},
   "source": [
    "# Teste para pegar informações básicas de app\n",
    "Ver mais detalhes em https://github.com/danieliu/play-scraper"
   ]
  },
  {
   "cell_type": "code",
   "execution_count": 2,
   "metadata": {},
   "outputs": [
    {
     "name": "stdout",
     "output_type": "stream",
     "text": [
      "{'title': 'Google Chrome: Fast & Secure', 'icon': 'https://lh3.googleusercontent.com/nYhPnY2I-e9rpqnid9u9aAODz4C04OycEGxqHG5vxFnA35OGmLMrrUmhM9eaHKJ7liB-', 'screenshots': [], 'video': None, 'category': ['COMMUNICATION'], 'score': '4.3', 'histogram': {5: None, 4: None, 3: None, 2: None, 1: None}, 'reviews': 14460158, 'description': None, 'description_html': None, 'recent_changes': None, 'editors_choice': False, 'price': '0', 'free': True, 'iap': False, 'developer_id': '5700313618786177705', 'updated': 'May 16, 2019', 'size': 'Varies with device', 'installs': '1,000,000,000+', 'current_version': 'Varies with device', 'required_android_version': 'Varies with device', 'content_rating': ['Everyone'], 'iap_range': None, 'interactive_elements': ['Unrestricted Internet'], 'developer': 'Google LLC', 'developer_email': 'apps-help@google.com', 'developer_url': 'http://www.google.com/chrome/android', 'developer_address': '1600 Amphitheatre Parkway, Mountain View 94043', 'app_id': 'com.android.chrome', 'url': 'https://play.google.com/store/apps/details?id=com.android.chrome'}\n"
     ]
    }
   ],
   "source": [
    "print(play_scraper.details('com.android.chrome'))"
   ]
  },
  {
   "cell_type": "code",
   "execution_count": 5,
   "metadata": {},
   "outputs": [],
   "source": [
    "app = play_scraper.details('com.android.chrome')"
   ]
  },
  {
   "cell_type": "code",
   "execution_count": 13,
   "metadata": {},
   "outputs": [
    {
     "data": {
      "text/plain": [
       "{'title': 'Google Chrome: Fast & Secure',\n",
       " 'icon': 'https://lh3.googleusercontent.com/nYhPnY2I-e9rpqnid9u9aAODz4C04OycEGxqHG5vxFnA35OGmLMrrUmhM9eaHKJ7liB-',\n",
       " 'screenshots': [],\n",
       " 'video': None,\n",
       " 'category': ['COMMUNICATION'],\n",
       " 'score': '4.3',\n",
       " 'histogram': {5: None, 4: None, 3: None, 2: None, 1: None},\n",
       " 'reviews': 14460080,\n",
       " 'description': None,\n",
       " 'description_html': None,\n",
       " 'recent_changes': None,\n",
       " 'editors_choice': False,\n",
       " 'price': '0',\n",
       " 'free': True,\n",
       " 'iap': False,\n",
       " 'developer_id': '5700313618786177705',\n",
       " 'updated': 'May 16, 2019',\n",
       " 'size': 'Varies with device',\n",
       " 'installs': '1,000,000,000+',\n",
       " 'current_version': 'Varies with device',\n",
       " 'required_android_version': 'Varies with device',\n",
       " 'content_rating': ['Everyone'],\n",
       " 'iap_range': None,\n",
       " 'interactive_elements': ['Unrestricted Internet'],\n",
       " 'developer': 'Google LLC',\n",
       " 'developer_email': 'apps-help@google.com',\n",
       " 'developer_url': 'http://www.google.com/chrome/android',\n",
       " 'developer_address': '1600 Amphitheatre Parkway, Mountain View 94043',\n",
       " 'app_id': 'com.android.chrome',\n",
       " 'url': 'https://play.google.com/store/apps/details?id=com.android.chrome'}"
      ]
     },
     "execution_count": 13,
     "metadata": {},
     "output_type": "execute_result"
    }
   ],
   "source": [
    "app"
   ]
  },
  {
   "cell_type": "code",
   "execution_count": 14,
   "metadata": {},
   "outputs": [],
   "source": [
    "coletion = play_scraper.collection(\n",
    "        collection='TRENDING',\n",
    "        category='GAME_RACING',\n",
    "        results=5,\n",
    "        page=1)"
   ]
  },
  {
   "cell_type": "code",
   "execution_count": 20,
   "metadata": {},
   "outputs": [
    {
     "data": {
      "text/plain": [
       "{'app_id': 'com.battlecreek.offroadoutlaws',\n",
       " 'url': 'https://play.google.com/store/apps/details?id=com.battlecreek.offroadoutlaws',\n",
       " 'icon': 'https://lh3.googleusercontent.com/7_hdU4A23Eq1797dVLa1nhLUQJuBS6bOQzopf-q2WZtFdZ2Y30GekW-wY2lppMYMvQ',\n",
       " 'title': 'Offroad Outlaws',\n",
       " 'developer': 'Battle Creek Games',\n",
       " 'developer_id': 'Battle+Creek+Games',\n",
       " 'description': 'Mud. Dirt. Rocks. Multiplayer. Trucks. Diesels. Quads. Crawlers. SxS. Download!',\n",
       " 'score': '4.4',\n",
       " 'full_price': None,\n",
       " 'price': '',\n",
       " 'free': False}"
      ]
     },
     "execution_count": 20,
     "metadata": {},
     "output_type": "execute_result"
    }
   ],
   "source": [
    "coletion[0]"
   ]
  },
  {
   "cell_type": "code",
   "execution_count": null,
   "metadata": {},
   "outputs": [],
   "source": []
  },
  {
   "cell_type": "code",
   "execution_count": null,
   "metadata": {},
   "outputs": [],
   "source": []
  },
  {
   "cell_type": "code",
   "execution_count": null,
   "metadata": {},
   "outputs": [],
   "source": []
  }
 ],
 "metadata": {
  "kernelspec": {
   "display_name": "Python 3",
   "language": "python",
   "name": "python3"
  },
  "language_info": {
   "codemirror_mode": {
    "name": "ipython",
    "version": 3
   },
   "file_extension": ".py",
   "mimetype": "text/x-python",
   "name": "python",
   "nbconvert_exporter": "python",
   "pygments_lexer": "ipython3",
   "version": "3.7.2"
  }
 },
 "nbformat": 4,
 "nbformat_minor": 2
}
